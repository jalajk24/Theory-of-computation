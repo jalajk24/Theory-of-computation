{
 "cells": [
  {
   "cell_type": "code",
   "execution_count": 3,
   "metadata": {},
   "outputs": [],
   "source": [
    "dfa={'q0':{'0':'q1','1':'q1'},'q1':{'0':'q1','1':'q1'}}#DFA USING DICTIONARY"
   ]
  },
  {
   "cell_type": "code",
   "execution_count": 6,
   "metadata": {},
   "outputs": [
    {
     "name": "stdout",
     "output_type": "stream",
     "text": [
      "{'0': 'q1', '1': 'q1'}\n"
     ]
    }
   ],
   "source": [
    "print(dfa['q0'])#printing the elements"
   ]
  },
  {
   "cell_type": "code",
   "execution_count": 10,
   "metadata": {},
   "outputs": [
    {
     "name": "stdout",
     "output_type": "stream",
     "text": [
      "q1\n"
     ]
    }
   ],
   "source": [
    "print(dfa['q0']['0'])"
   ]
  },
  {
   "cell_type": "code",
   "execution_count": 11,
   "metadata": {},
   "outputs": [
    {
     "data": {
      "text/plain": [
       "'q1'"
      ]
     },
     "execution_count": 11,
     "metadata": {},
     "output_type": "execute_result"
    }
   ],
   "source": [
    "dfa=dict()#dfa using dictionary\n",
    "dfa[('q0','0')]='q1'\n",
    "dfa[('q0','1')]='q1'\n",
    "dfa[('q0','0')]"
   ]
  },
  {
   "cell_type": "code",
   "execution_count": 26,
   "metadata": {},
   "outputs": [
    {
     "data": {
      "text/plain": [
       "[{'a': 1}, {}]"
      ]
     },
     "execution_count": 26,
     "metadata": {},
     "output_type": "execute_result"
    }
   ],
   "source": [
    "nstate=['q0','q1']#dfa using dictionary\n",
    "moves=[{ } for i in nstate]\n",
    "def func(inp,ch,opt):\n",
    "    moves[inp][ch]=opt\n",
    "func(0,'a',1)\n",
    "moves"
   ]
  },
  {
   "cell_type": "markdown",
   "metadata": {},
   "source": [
    "Q1>language containing a string with three cosecutive ones"
   ]
  },
  {
   "cell_type": "code",
   "execution_count": 36,
   "metadata": {
    "scrolled": true
   },
   "outputs": [
    {
     "name": "stdout",
     "output_type": "stream",
     "text": [
      "enter the string01110111\n",
      "acceptable\n"
     ]
    }
   ],
   "source": [
    "dfa={'q0':{'0':'q0','1':'q1'},'q1':{'0':'q0','1':'q2'},'q2':{'0':'q0','1':'q3'},'q3':{'0':'q3','1':'q3'}}\n",
    "ins='q0'\n",
    "fs={'q3'}\n",
    "def ones(m):\n",
    "    cs=ins\n",
    "    for i in m:\n",
    "        cs=dfa[cs][i]\n",
    "    if cs in fs:\n",
    "        print(\"acceptable\")\n",
    "    else:\n",
    "        print(\"non acceptable\")\n",
    "k=input(\"enter the string\")\n",
    "ones(k)"
   ]
  },
  {
   "cell_type": "markdown",
   "metadata": {},
   "source": [
    "Above one is answer to Q1"
   ]
  },
  {
   "cell_type": "code",
   "execution_count": null,
   "metadata": {},
   "outputs": [],
   "source": [
    "\n"
   ]
  }
 ],
 "metadata": {
  "kernelspec": {
   "display_name": "Python 3",
   "language": "python",
   "name": "python3"
  },
  "language_info": {
   "codemirror_mode": {
    "name": "ipython",
    "version": 3
   },
   "file_extension": ".py",
   "mimetype": "text/x-python",
   "name": "python",
   "nbconvert_exporter": "python",
   "pygments_lexer": "ipython3",
   "version": "3.7.1"
  }
 },
 "nbformat": 4,
 "nbformat_minor": 2
}
