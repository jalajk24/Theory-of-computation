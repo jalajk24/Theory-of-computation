{
 "cells": [
  {
   "cell_type": "code",
   "execution_count": 1,
   "metadata": {},
   "outputs": [
    {
     "name": "stdout",
     "output_type": "stream",
     "text": [
      " PRESS --> 1 to insert element at beginning,2 to insert element at end  , 3 to delete from beginning,4 to delete from end, 5 to print your list , 6 to get length of list ,7 to exit\n"
     ]
    },
    {
     "name": "stdin",
     "output_type": "stream",
     "text": [
      " 1\n",
      "enter element 6\n"
     ]
    },
    {
     "name": "stdout",
     "output_type": "stream",
     "text": [
      " PRESS --> 1 to insert element at beginning,2 to insert element at end  , 3 to delete from beginning,4 to delete from end, 5 to print your list , 6 to get length of list ,7 to exit\n"
     ]
    },
    {
     "name": "stdin",
     "output_type": "stream",
     "text": [
      " 1\n",
      "enter element 4\n"
     ]
    },
    {
     "name": "stdout",
     "output_type": "stream",
     "text": [
      " PRESS --> 1 to insert element at beginning,2 to insert element at end  , 3 to delete from beginning,4 to delete from end, 5 to print your list , 6 to get length of list ,7 to exit\n"
     ]
    },
    {
     "name": "stdin",
     "output_type": "stream",
     "text": [
      " 2\n",
      "enter element 5\n"
     ]
    },
    {
     "name": "stdout",
     "output_type": "stream",
     "text": [
      " PRESS --> 1 to insert element at beginning,2 to insert element at end  , 3 to delete from beginning,4 to delete from end, 5 to print your list , 6 to get length of list ,7 to exit\n"
     ]
    },
    {
     "name": "stdin",
     "output_type": "stream",
     "text": [
      " 2\n",
      "enter element 7\n"
     ]
    },
    {
     "name": "stdout",
     "output_type": "stream",
     "text": [
      " PRESS --> 1 to insert element at beginning,2 to insert element at end  , 3 to delete from beginning,4 to delete from end, 5 to print your list , 6 to get length of list ,7 to exit\n"
     ]
    },
    {
     "name": "stdin",
     "output_type": "stream",
     "text": [
      " 5\n"
     ]
    },
    {
     "name": "stdout",
     "output_type": "stream",
     "text": [
      "[4, 6, 5, 7]\n",
      " PRESS --> 1 to insert element at beginning,2 to insert element at end  , 3 to delete from beginning,4 to delete from end, 5 to print your list , 6 to get length of list ,7 to exit\n"
     ]
    },
    {
     "name": "stdin",
     "output_type": "stream",
     "text": [
      " 3\n"
     ]
    },
    {
     "name": "stdout",
     "output_type": "stream",
     "text": [
      " PRESS --> 1 to insert element at beginning,2 to insert element at end  , 3 to delete from beginning,4 to delete from end, 5 to print your list , 6 to get length of list ,7 to exit\n"
     ]
    },
    {
     "name": "stdin",
     "output_type": "stream",
     "text": [
      " 5\n"
     ]
    },
    {
     "name": "stdout",
     "output_type": "stream",
     "text": [
      "[6, 5, 7]\n",
      " PRESS --> 1 to insert element at beginning,2 to insert element at end  , 3 to delete from beginning,4 to delete from end, 5 to print your list , 6 to get length of list ,7 to exit\n"
     ]
    },
    {
     "name": "stdin",
     "output_type": "stream",
     "text": [
      " 3\n"
     ]
    },
    {
     "name": "stdout",
     "output_type": "stream",
     "text": [
      " PRESS --> 1 to insert element at beginning,2 to insert element at end  , 3 to delete from beginning,4 to delete from end, 5 to print your list , 6 to get length of list ,7 to exit\n"
     ]
    },
    {
     "name": "stdin",
     "output_type": "stream",
     "text": [
      " 5\n"
     ]
    },
    {
     "name": "stdout",
     "output_type": "stream",
     "text": [
      "[5, 7]\n",
      " PRESS --> 1 to insert element at beginning,2 to insert element at end  , 3 to delete from beginning,4 to delete from end, 5 to print your list , 6 to get length of list ,7 to exit\n"
     ]
    },
    {
     "name": "stdin",
     "output_type": "stream",
     "text": [
      " 4\n"
     ]
    },
    {
     "name": "stdout",
     "output_type": "stream",
     "text": [
      " PRESS --> 1 to insert element at beginning,2 to insert element at end  , 3 to delete from beginning,4 to delete from end, 5 to print your list , 6 to get length of list ,7 to exit\n"
     ]
    },
    {
     "name": "stdin",
     "output_type": "stream",
     "text": [
      " 5\n"
     ]
    },
    {
     "name": "stdout",
     "output_type": "stream",
     "text": [
      "[5]\n",
      " PRESS --> 1 to insert element at beginning,2 to insert element at end  , 3 to delete from beginning,4 to delete from end, 5 to print your list , 6 to get length of list ,7 to exit\n"
     ]
    },
    {
     "name": "stdin",
     "output_type": "stream",
     "text": [
      " 4\n"
     ]
    },
    {
     "name": "stdout",
     "output_type": "stream",
     "text": [
      " PRESS --> 1 to insert element at beginning,2 to insert element at end  , 3 to delete from beginning,4 to delete from end, 5 to print your list , 6 to get length of list ,7 to exit\n"
     ]
    },
    {
     "name": "stdin",
     "output_type": "stream",
     "text": [
      " 5\n"
     ]
    },
    {
     "name": "stdout",
     "output_type": "stream",
     "text": [
      "[]\n",
      " PRESS --> 1 to insert element at beginning,2 to insert element at end  , 3 to delete from beginning,4 to delete from end, 5 to print your list , 6 to get length of list ,7 to exit\n"
     ]
    },
    {
     "name": "stdin",
     "output_type": "stream",
     "text": [
      " 7\n"
     ]
    }
   ],
   "source": [
    "\n",
    "class dequeue():\n",
    "    def __init__(self):\n",
    "        self.items=[]\n",
    "    def insert_end(self,item):\n",
    "        self.items.append(item)\n",
    "    def insert_front(self,item):\n",
    "        self.items.insert(0,item)\n",
    "    def delete_end(self):\n",
    "        self.items.pop()\n",
    "    def delete_front(self):\n",
    "        self.items.pop(0)\n",
    "    def showlist(self):\n",
    "        print(self.items)\n",
    "    def ll(self):\n",
    "        print(len(self.items))\n",
    "\n",
    "o=dequeue()\n",
    "while 1:\n",
    "    print(\" PRESS --> 1 to insert element at beginning,2 to insert element at end  , 3 to delete from beginning,4 to delete from end, 5 to print your list , 6 to get length of list ,7 to exit\")\n",
    "    ch=input()\n",
    "    if ch=='1':\n",
    "        k=int(input(\"enter element\"))\n",
    "        o.insert_front(k)\n",
    "    elif ch == '2':\n",
    "        k = int(input(\"enter element\"))\n",
    "        o.insert_end(k)\n",
    "    elif ch=='3':\n",
    "        o.delete_front()\n",
    "    elif ch=='4':\n",
    "        o.delete_end()\n",
    "    elif ch=='6':\n",
    "        o.ll()\n",
    "    elif ch=='5':\n",
    "        o.showlist()\n",
    "    elif ch=='7':\n",
    "        break\n",
    "    else:\n",
    "        print(\"wrong choice\")\n",
    "\n",
    "\n",
    "\n"
   ]
  },
  {
   "cell_type": "markdown",
   "metadata": {},
   "source": [
    "progra"
   ]
  }
 ],
 "metadata": {
  "kernelspec": {
   "display_name": "Python 3",
   "language": "python",
   "name": "python3"
  },
  "language_info": {
   "codemirror_mode": {
    "name": "ipython",
    "version": 3
   },
   "file_extension": ".py",
   "mimetype": "text/x-python",
   "name": "python",
   "nbconvert_exporter": "python",
   "pygments_lexer": "ipython3",
   "version": "3.7.3"
  }
 },
 "nbformat": 4,
 "nbformat_minor": 4
}
