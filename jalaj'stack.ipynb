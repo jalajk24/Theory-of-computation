{
 "cells": [
  {
   "cell_type": "code",
   "execution_count": 1,
   "metadata": {},
   "outputs": [
    {
     "name": "stdout",
     "output_type": "stream",
     "text": [
      "1 to insert element , 2 to delete, 3 to get length of list ,4 to print your list , 5 to exit\n"
     ]
    },
    {
     "name": "stdin",
     "output_type": "stream",
     "text": [
      " 1\n",
      "enter element 34\n"
     ]
    },
    {
     "name": "stdout",
     "output_type": "stream",
     "text": [
      "34 inserted\n",
      "1 to insert element , 2 to delete, 3 to get length of list ,4 to print your list , 5 to exit\n"
     ]
    },
    {
     "name": "stdin",
     "output_type": "stream",
     "text": [
      " 1\n",
      "enter element 56\n"
     ]
    },
    {
     "name": "stdout",
     "output_type": "stream",
     "text": [
      "56 inserted\n",
      "1 to insert element , 2 to delete, 3 to get length of list ,4 to print your list , 5 to exit\n"
     ]
    },
    {
     "name": "stdin",
     "output_type": "stream",
     "text": [
      " 1\n",
      "enter element 67\n"
     ]
    },
    {
     "name": "stdout",
     "output_type": "stream",
     "text": [
      "67 inserted\n",
      "1 to insert element , 2 to delete, 3 to get length of list ,4 to print your list , 5 to exit\n"
     ]
    },
    {
     "name": "stdin",
     "output_type": "stream",
     "text": [
      " 1\n",
      "enter element 54\n"
     ]
    },
    {
     "name": "stdout",
     "output_type": "stream",
     "text": [
      "54 inserted\n",
      "1 to insert element , 2 to delete, 3 to get length of list ,4 to print your list , 5 to exit\n"
     ]
    },
    {
     "name": "stdin",
     "output_type": "stream",
     "text": [
      " 4\n"
     ]
    },
    {
     "name": "stdout",
     "output_type": "stream",
     "text": [
      "[34, 56, 67, 54]\n",
      "1 to insert element , 2 to delete, 3 to get length of list ,4 to print your list , 5 to exit\n"
     ]
    },
    {
     "name": "stdin",
     "output_type": "stream",
     "text": [
      " 2\n"
     ]
    },
    {
     "name": "stdout",
     "output_type": "stream",
     "text": [
      "1 to insert element , 2 to delete, 3 to get length of list ,4 to print your list , 5 to exit\n"
     ]
    },
    {
     "name": "stdin",
     "output_type": "stream",
     "text": [
      " 2\n"
     ]
    },
    {
     "name": "stdout",
     "output_type": "stream",
     "text": [
      "1 to insert element , 2 to delete, 3 to get length of list ,4 to print your list , 5 to exit\n"
     ]
    },
    {
     "name": "stdin",
     "output_type": "stream",
     "text": [
      " 4\n"
     ]
    },
    {
     "name": "stdout",
     "output_type": "stream",
     "text": [
      "[34, 56]\n",
      "1 to insert element , 2 to delete, 3 to get length of list ,4 to print your list , 5 to exit\n"
     ]
    },
    {
     "name": "stdin",
     "output_type": "stream",
     "text": [
      " 2\n"
     ]
    },
    {
     "name": "stdout",
     "output_type": "stream",
     "text": [
      "1 to insert element , 2 to delete, 3 to get length of list ,4 to print your list , 5 to exit\n"
     ]
    },
    {
     "name": "stdin",
     "output_type": "stream",
     "text": [
      " 2\n"
     ]
    },
    {
     "name": "stdout",
     "output_type": "stream",
     "text": [
      "1 to insert element , 2 to delete, 3 to get length of list ,4 to print your list , 5 to exit\n"
     ]
    },
    {
     "name": "stdin",
     "output_type": "stream",
     "text": [
      " 4\n"
     ]
    },
    {
     "name": "stdout",
     "output_type": "stream",
     "text": [
      "[]\n",
      "1 to insert element , 2 to delete, 3 to get length of list ,4 to print your list , 5 to exit\n"
     ]
    },
    {
     "name": "stdin",
     "output_type": "stream",
     "text": [
      " 5\n"
     ]
    }
   ],
   "source": [
    "class stack():\n",
    "    def __init__(self):\n",
    "        self.items=[]\n",
    "    def push(self,item):\n",
    "        self.items.append(item)\n",
    "        print(item,\"inserted\")\n",
    "    def pop(self):\n",
    "        return self.items.pop()\n",
    "    def isEmpty(self):\n",
    "        return len(self.items)\n",
    "    def mylist(self):\n",
    "        print(self.items)\n",
    "a=stack()\n",
    "while 1:\n",
    "    print(\"1 to insert element , 2 to delete, 3 to get length of list ,4 to print your list , 5 to exit\")\n",
    "    ch=input()\n",
    "    if ch=='1':\n",
    "        k=int(input(\"enter element\"))\n",
    "        a.push(k)\n",
    "    elif ch=='2':\n",
    "        a.pop()\n",
    "    elif ch=='3':\n",
    "        a.isEmpty()\n",
    "    elif ch=='5':\n",
    "        break\n",
    "    elif ch=='4':\n",
    "        a.mylist()\n",
    "    else:\n",
    "        print(\"wrong choice\")\n",
    "\n"
   ]
  },
  {
   "cell_type": "markdown",
   "metadata": {},
   "source": [
    "program in python for stack"
   ]
  },
  {
   "cell_type": "code",
   "execution_count": null,
   "metadata": {},
   "outputs": [],
   "source": []
  }
 ],
 "metadata": {
  "kernelspec": {
   "display_name": "Python 3",
   "language": "python",
   "name": "python3"
  },
  "language_info": {
   "codemirror_mode": {
    "name": "ipython",
    "version": 3
   },
   "file_extension": ".py",
   "mimetype": "text/x-python",
   "name": "python",
   "nbconvert_exporter": "python",
   "pygments_lexer": "ipython3",
   "version": "3.7.3"
  }
 },
 "nbformat": 4,
 "nbformat_minor": 4
}
