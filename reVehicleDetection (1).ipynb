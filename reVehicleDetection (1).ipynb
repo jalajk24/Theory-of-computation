{
 "cells": [
  {
   "cell_type": "markdown",
   "metadata": {
    "colab": {},
    "colab_type": "code",
    "id": "NLP_RXAuBCr8"
   },
   "source": [
    "# Vehicle detection using RE"
   ]
  },
  {
   "cell_type": "code",
   "execution_count": null,
   "metadata": {},
   "outputs": [],
   "source": [
    "import re\n",
    "str=input(\"enter the Vehicle no\")\n",
    "x=re.search('^MP09..[0-9]{4}',str)\n",
    "if x:\n",
    "  print(\"vehicle belongs to Indore\")\n",
    "else:\n",
    "  print(\"vehicle doesn't belongs to indore\")"
   ]
  },
  {
   "cell_type": "markdown",
   "metadata": {},
   "source": [
    "# Checking the sentence whether its a question or not"
   ]
  },
  {
   "cell_type": "code",
   "execution_count": null,
   "metadata": {
    "colab": {},
    "colab_type": "code",
    "id": "dpdXHWvNCRIn"
   },
   "outputs": [],
   "source": [
    "import re\n",
    "str=input(\"enter the sentence \")\n",
    "x=re.search(\".+\\?$\",str)\n",
    "if x:\n",
    "  print(\"this is a question.\")\n",
    "else:\n",
    "  print(\"not a question.\")"
   ]
  }
 ],
 "metadata": {
  "colab": {
   "name": "reVehicleDetection.ipynb",
   "provenance": []
  },
  "kernelspec": {
   "display_name": "Python 3",
   "language": "python",
   "name": "python3"
  },
  "language_info": {
   "codemirror_mode": {
    "name": "ipython",
    "version": 3
   },
   "file_extension": ".py",
   "mimetype": "text/x-python",
   "name": "python",
   "nbconvert_exporter": "python",
   "pygments_lexer": "ipython3",
   "version": "3.7.3"
  }
 },
 "nbformat": 4,
 "nbformat_minor": 4
}
