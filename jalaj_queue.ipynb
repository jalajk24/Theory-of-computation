{
 "cells": [
  {
   "cell_type": "code",
   "execution_count": 1,
   "metadata": {},
   "outputs": [
    {
     "name": "stdout",
     "output_type": "stream",
     "text": [
      "1 to insert element , 2 to delete, 3 to get length of list ,4 to print your list , 5 to exit\n"
     ]
    },
    {
     "name": "stdin",
     "output_type": "stream",
     "text": [
      " 1\n",
      "enter element 3\n"
     ]
    },
    {
     "name": "stdout",
     "output_type": "stream",
     "text": [
      "1 to insert element , 2 to delete, 3 to get length of list ,4 to print your list , 5 to exit\n"
     ]
    },
    {
     "name": "stdin",
     "output_type": "stream",
     "text": [
      " 4\n"
     ]
    },
    {
     "name": "stdout",
     "output_type": "stream",
     "text": [
      "[3]\n",
      "1 to insert element , 2 to delete, 3 to get length of list ,4 to print your list , 5 to exit\n"
     ]
    },
    {
     "name": "stdin",
     "output_type": "stream",
     "text": [
      " 1\n",
      "enter element 4\n"
     ]
    },
    {
     "name": "stdout",
     "output_type": "stream",
     "text": [
      "1 to insert element , 2 to delete, 3 to get length of list ,4 to print your list , 5 to exit\n"
     ]
    },
    {
     "name": "stdin",
     "output_type": "stream",
     "text": [
      " 4\n"
     ]
    },
    {
     "name": "stdout",
     "output_type": "stream",
     "text": [
      "[4, 3]\n",
      "1 to insert element , 2 to delete, 3 to get length of list ,4 to print your list , 5 to exit\n"
     ]
    },
    {
     "name": "stdin",
     "output_type": "stream",
     "text": [
      " 1\n",
      "enter element 7\n"
     ]
    },
    {
     "name": "stdout",
     "output_type": "stream",
     "text": [
      "1 to insert element , 2 to delete, 3 to get length of list ,4 to print your list , 5 to exit\n"
     ]
    },
    {
     "name": "stdin",
     "output_type": "stream",
     "text": [
      " 1\n",
      "enter element 8\n"
     ]
    },
    {
     "name": "stdout",
     "output_type": "stream",
     "text": [
      "1 to insert element , 2 to delete, 3 to get length of list ,4 to print your list , 5 to exit\n"
     ]
    },
    {
     "name": "stdin",
     "output_type": "stream",
     "text": [
      " 1\n",
      "enter element 9\n"
     ]
    },
    {
     "name": "stdout",
     "output_type": "stream",
     "text": [
      "1 to insert element , 2 to delete, 3 to get length of list ,4 to print your list , 5 to exit\n"
     ]
    },
    {
     "name": "stdin",
     "output_type": "stream",
     "text": [
      " 1\n",
      "enter element 10\n"
     ]
    },
    {
     "name": "stdout",
     "output_type": "stream",
     "text": [
      "1 to insert element , 2 to delete, 3 to get length of list ,4 to print your list , 5 to exit\n"
     ]
    },
    {
     "name": "stdin",
     "output_type": "stream",
     "text": [
      " 4\n"
     ]
    },
    {
     "name": "stdout",
     "output_type": "stream",
     "text": [
      "[10, 9, 8, 7, 4, 3]\n",
      "1 to insert element , 2 to delete, 3 to get length of list ,4 to print your list , 5 to exit\n"
     ]
    },
    {
     "name": "stdin",
     "output_type": "stream",
     "text": [
      " 2\n"
     ]
    },
    {
     "name": "stdout",
     "output_type": "stream",
     "text": [
      "1 to insert element , 2 to delete, 3 to get length of list ,4 to print your list , 5 to exit\n"
     ]
    },
    {
     "name": "stdin",
     "output_type": "stream",
     "text": [
      " 4\n"
     ]
    },
    {
     "name": "stdout",
     "output_type": "stream",
     "text": [
      "[10, 9, 8, 7, 4]\n",
      "1 to insert element , 2 to delete, 3 to get length of list ,4 to print your list , 5 to exit\n"
     ]
    },
    {
     "name": "stdin",
     "output_type": "stream",
     "text": [
      " 2\n"
     ]
    },
    {
     "name": "stdout",
     "output_type": "stream",
     "text": [
      "1 to insert element , 2 to delete, 3 to get length of list ,4 to print your list , 5 to exit\n"
     ]
    },
    {
     "name": "stdin",
     "output_type": "stream",
     "text": [
      " 4\n"
     ]
    },
    {
     "name": "stdout",
     "output_type": "stream",
     "text": [
      "[10, 9, 8, 7]\n",
      "1 to insert element , 2 to delete, 3 to get length of list ,4 to print your list , 5 to exit\n"
     ]
    },
    {
     "name": "stdin",
     "output_type": "stream",
     "text": [
      " 2\n"
     ]
    },
    {
     "name": "stdout",
     "output_type": "stream",
     "text": [
      "1 to insert element , 2 to delete, 3 to get length of list ,4 to print your list , 5 to exit\n"
     ]
    },
    {
     "name": "stdin",
     "output_type": "stream",
     "text": [
      " 4\n"
     ]
    },
    {
     "name": "stdout",
     "output_type": "stream",
     "text": [
      "[10, 9, 8]\n",
      "1 to insert element , 2 to delete, 3 to get length of list ,4 to print your list , 5 to exit\n"
     ]
    },
    {
     "name": "stdin",
     "output_type": "stream",
     "text": [
      " 2\n"
     ]
    },
    {
     "name": "stdout",
     "output_type": "stream",
     "text": [
      "1 to insert element , 2 to delete, 3 to get length of list ,4 to print your list , 5 to exit\n"
     ]
    },
    {
     "name": "stdin",
     "output_type": "stream",
     "text": [
      " 4\n"
     ]
    },
    {
     "name": "stdout",
     "output_type": "stream",
     "text": [
      "[10, 9]\n",
      "1 to insert element , 2 to delete, 3 to get length of list ,4 to print your list , 5 to exit\n"
     ]
    },
    {
     "name": "stdin",
     "output_type": "stream",
     "text": [
      " 2\n"
     ]
    },
    {
     "name": "stdout",
     "output_type": "stream",
     "text": [
      "1 to insert element , 2 to delete, 3 to get length of list ,4 to print your list , 5 to exit\n"
     ]
    },
    {
     "name": "stdin",
     "output_type": "stream",
     "text": [
      " 4\n"
     ]
    },
    {
     "name": "stdout",
     "output_type": "stream",
     "text": [
      "[10]\n",
      "1 to insert element , 2 to delete, 3 to get length of list ,4 to print your list , 5 to exit\n"
     ]
    },
    {
     "name": "stdin",
     "output_type": "stream",
     "text": [
      " 2\n"
     ]
    },
    {
     "name": "stdout",
     "output_type": "stream",
     "text": [
      "1 to insert element , 2 to delete, 3 to get length of list ,4 to print your list , 5 to exit\n"
     ]
    },
    {
     "name": "stdin",
     "output_type": "stream",
     "text": [
      " 4\n"
     ]
    },
    {
     "name": "stdout",
     "output_type": "stream",
     "text": [
      "[]\n",
      "1 to insert element , 2 to delete, 3 to get length of list ,4 to print your list , 5 to exit\n"
     ]
    },
    {
     "name": "stdin",
     "output_type": "stream",
     "text": [
      " 1\n",
      "enter element 3\n"
     ]
    },
    {
     "name": "stdout",
     "output_type": "stream",
     "text": [
      "1 to insert element , 2 to delete, 3 to get length of list ,4 to print your list , 5 to exit\n"
     ]
    },
    {
     "name": "stdin",
     "output_type": "stream",
     "text": [
      " 5\n"
     ]
    }
   ],
   "source": [
    "class queue():\n",
    "    def __init__(self):\n",
    "        self.qlist=[]\n",
    "    def enque(self,ele):\n",
    "        self.qlist.insert(0,ele)\n",
    "    def delete(self):\n",
    "        return self.qlist.pop()\n",
    "    def isempty(self):\n",
    "        return len(self.qlist)\n",
    "    def pq(self):\n",
    "        print(self.qlist)\n",
    "\n",
    "\n",
    "b = queue()\n",
    "while 1:\n",
    "    print(\"1 to insert element , 2 to delete, 3 to get length of list ,4 to print your list , 5 to exit\")\n",
    "    ch = input()\n",
    "    if ch == '1':\n",
    "        k = int(input(\"enter element\"))\n",
    "        b.enque(k)\n",
    "    elif ch == '2':\n",
    "        b.delete()\n",
    "    elif ch == '3':\n",
    "        b.isempty()\n",
    "    elif ch == '5':\n",
    "        break\n",
    "    elif ch == '4':\n",
    "        b.pq()\n",
    "    else:\n",
    "        print(\"wrong choice\")\n"
   ]
  },
  {
   "cell_type": "markdown",
   "metadata": {},
   "source": [
    "python program for queue data structure"
   ]
  }
 ],
 "metadata": {
  "kernelspec": {
   "display_name": "Python 3",
   "language": "python",
   "name": "python3"
  },
  "language_info": {
   "codemirror_mode": {
    "name": "ipython",
    "version": 3
   },
   "file_extension": ".py",
   "mimetype": "text/x-python",
   "name": "python",
   "nbconvert_exporter": "python",
   "pygments_lexer": "ipython3",
   "version": "3.7.3"
  }
 },
 "nbformat": 4,
 "nbformat_minor": 4
}
